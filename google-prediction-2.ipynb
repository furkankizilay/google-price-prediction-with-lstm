{
 "cells": [
  {
   "cell_type": "code",
   "execution_count": 1,
   "metadata": {
    "scrolled": false
   },
   "outputs": [
    {
     "name": "stderr",
     "output_type": "stream",
     "text": [
      "<frozen importlib._bootstrap>:219: RuntimeWarning: scipy._lib.messagestream.MessageStream size changed, may indicate binary incompatibility. Expected 56 from C header, got 64 from PyObject\n"
     ]
    }
   ],
   "source": [
    "import numpy\n",
    "import pandas as pd \n",
    "import matplotlib.pyplot as plt\n",
    "import math\n",
    "from keras.models import Sequential\n",
    "from keras.layers import Dense\n",
    "from keras.layers import LSTM\n",
    "from sklearn.preprocessing import MinMaxScaler\n",
    "from sklearn.metrics import mean_squared_error"
   ]
  },
  {
   "cell_type": "code",
   "execution_count": 2,
   "metadata": {},
   "outputs": [],
   "source": [
    "google_data = pd.read_csv(\"GOOG.csv\")"
   ]
  },
  {
   "cell_type": "code",
   "execution_count": 3,
   "metadata": {},
   "outputs": [
    {
     "data": {
      "text/html": [
       "<div>\n",
       "<style scoped>\n",
       "    .dataframe tbody tr th:only-of-type {\n",
       "        vertical-align: middle;\n",
       "    }\n",
       "\n",
       "    .dataframe tbody tr th {\n",
       "        vertical-align: top;\n",
       "    }\n",
       "\n",
       "    .dataframe thead th {\n",
       "        text-align: right;\n",
       "    }\n",
       "</style>\n",
       "<table border=\"1\" class=\"dataframe\">\n",
       "  <thead>\n",
       "    <tr style=\"text-align: right;\">\n",
       "      <th></th>\n",
       "      <th>Date</th>\n",
       "      <th>Open</th>\n",
       "      <th>High</th>\n",
       "      <th>Low</th>\n",
       "      <th>Close</th>\n",
       "      <th>Adj Close</th>\n",
       "      <th>Volume</th>\n",
       "    </tr>\n",
       "  </thead>\n",
       "  <tbody>\n",
       "    <tr>\n",
       "      <th>0</th>\n",
       "      <td>2017-09-07</td>\n",
       "      <td>46.586498</td>\n",
       "      <td>46.820499</td>\n",
       "      <td>46.181000</td>\n",
       "      <td>46.797501</td>\n",
       "      <td>46.797501</td>\n",
       "      <td>24254000</td>\n",
       "    </tr>\n",
       "    <tr>\n",
       "      <th>1</th>\n",
       "      <td>2017-09-08</td>\n",
       "      <td>46.824501</td>\n",
       "      <td>46.849499</td>\n",
       "      <td>46.243999</td>\n",
       "      <td>46.325001</td>\n",
       "      <td>46.325001</td>\n",
       "      <td>20230000</td>\n",
       "    </tr>\n",
       "    <tr>\n",
       "      <th>2</th>\n",
       "      <td>2017-09-11</td>\n",
       "      <td>46.712502</td>\n",
       "      <td>46.918999</td>\n",
       "      <td>46.346001</td>\n",
       "      <td>46.453999</td>\n",
       "      <td>46.453999</td>\n",
       "      <td>25340000</td>\n",
       "    </tr>\n",
       "    <tr>\n",
       "      <th>3</th>\n",
       "      <td>2017-09-12</td>\n",
       "      <td>46.629501</td>\n",
       "      <td>46.674000</td>\n",
       "      <td>46.193050</td>\n",
       "      <td>46.603500</td>\n",
       "      <td>46.603500</td>\n",
       "      <td>22688000</td>\n",
       "    </tr>\n",
       "    <tr>\n",
       "      <th>4</th>\n",
       "      <td>2017-09-13</td>\n",
       "      <td>46.533001</td>\n",
       "      <td>46.862499</td>\n",
       "      <td>46.493000</td>\n",
       "      <td>46.754501</td>\n",
       "      <td>46.754501</td>\n",
       "      <td>22052000</td>\n",
       "    </tr>\n",
       "  </tbody>\n",
       "</table>\n",
       "</div>"
      ],
      "text/plain": [
       "         Date       Open       High        Low      Close  Adj Close    Volume\n",
       "0  2017-09-07  46.586498  46.820499  46.181000  46.797501  46.797501  24254000\n",
       "1  2017-09-08  46.824501  46.849499  46.243999  46.325001  46.325001  20230000\n",
       "2  2017-09-11  46.712502  46.918999  46.346001  46.453999  46.453999  25340000\n",
       "3  2017-09-12  46.629501  46.674000  46.193050  46.603500  46.603500  22688000\n",
       "4  2017-09-13  46.533001  46.862499  46.493000  46.754501  46.754501  22052000"
      ]
     },
     "execution_count": 3,
     "metadata": {},
     "output_type": "execute_result"
    }
   ],
   "source": [
    "google_data.head()"
   ]
  },
  {
   "cell_type": "code",
   "execution_count": 4,
   "metadata": {},
   "outputs": [
    {
     "data": {
      "text/plain": [
       "Date          object\n",
       "Open         float64\n",
       "High         float64\n",
       "Low          float64\n",
       "Close        float64\n",
       "Adj Close    float64\n",
       "Volume         int64\n",
       "dtype: object"
      ]
     },
     "execution_count": 4,
     "metadata": {},
     "output_type": "execute_result"
    }
   ],
   "source": [
    "google_data.dtypes"
   ]
  },
  {
   "cell_type": "code",
   "execution_count": 5,
   "metadata": {},
   "outputs": [],
   "source": [
    "google_data[\"Date\"] = pd.to_datetime(google_data['Date'])\n",
    "google_data['Date'] = pd.to_datetime(google_data['Date'], format='%Y-%m-%d')\n"
   ]
  },
  {
   "cell_type": "code",
   "execution_count": 6,
   "metadata": {},
   "outputs": [
    {
     "data": {
      "text/plain": [
       "Date         datetime64[ns]\n",
       "Open                float64\n",
       "High                float64\n",
       "Low                 float64\n",
       "Close               float64\n",
       "Adj Close           float64\n",
       "Volume                int64\n",
       "dtype: object"
      ]
     },
     "execution_count": 6,
     "metadata": {},
     "output_type": "execute_result"
    }
   ],
   "source": [
    "google_data.dtypes"
   ]
  },
  {
   "cell_type": "code",
   "execution_count": 7,
   "metadata": {},
   "outputs": [
    {
     "data": {
      "text/plain": [
       "0        46.586498\n",
       "1        46.824501\n",
       "2        46.712502\n",
       "3        46.629501\n",
       "4        46.533001\n",
       "           ...    \n",
       "1253    111.029999\n",
       "1254    111.629997\n",
       "1255    109.199997\n",
       "1256    111.339996\n",
       "1257    108.135002\n",
       "Name: Open, Length: 1258, dtype: float64"
      ]
     },
     "execution_count": 7,
     "metadata": {},
     "output_type": "execute_result"
    }
   ],
   "source": [
    "google_data[\"Open\"]"
   ]
  },
  {
   "cell_type": "code",
   "execution_count": 8,
   "metadata": {},
   "outputs": [
    {
     "data": {
      "image/png": "[encoded data removed]",
      "text/plain": [
       "<Figure size 432x288 with 1 Axes>"
      ]
     },
     "metadata": {
      "needs_background": "light"
     },
     "output_type": "display_data"
    }
   ],
   "source": [
    "google_data_open = google_data.iloc[:,1].values\n",
    "plt.plot(google_data[\"Date\"],google_data_open)\n",
    "plt.xlabel(\"time\")\n",
    "plt.ylabel(\"open_value\")\n",
    "plt.title(\"google open values\")\n",
    "plt.show()"
   ]
  },
  {
   "cell_type": "code",
   "execution_count": 9,
   "metadata": {},
   "outputs": [
    {
     "data": {
      "text/plain": [
       "(1258, 1)"
      ]
     },
     "execution_count": 9,
     "metadata": {},
     "output_type": "execute_result"
    }
   ],
   "source": [
    "google_data_open = google_data_open.reshape(-1,1)\n",
    "google_data_open = google_data_open.astype(\"float32\")\n",
    "google_data_open.shape"
   ]
  },
  {
   "cell_type": "code",
   "execution_count": 10,
   "metadata": {},
   "outputs": [],
   "source": [
    "scaler = MinMaxScaler(feature_range=(0,1))\n",
    "google_data_open = scaler.fit_transform(google_data_open)"
   ]
  },
  {
   "cell_type": "code",
   "execution_count": 11,
   "metadata": {},
   "outputs": [
    {
     "name": "stdout",
     "output_type": "stream",
     "text": [
      "train size: 629, test size: 629 \n"
     ]
    }
   ],
   "source": [
    "train_size = int(len(google_data_open) * 0.50)\n",
    "test_size = len(google_data_open) - train_size\n",
    "train = google_data_open[0:train_size, :]\n",
    "test = google_data_open[train_size:len(google_data_open),:]\n",
    "print(\"train size: {}, test size: {} \".format(len(train), len(test)))"
   ]
  },
  {
   "cell_type": "code",
   "execution_count": 12,
   "metadata": {},
   "outputs": [],
   "source": [
    "time_stemp = 10\n",
    "dataX = []\n",
    "dataY = []\n",
    "for i in range(len(train)-time_stemp-1):\n",
    "    a = train[i:(i+time_stemp),0]\n",
    "    dataX.append(a)\n",
    "    dataY.append(train[i + time_stemp, 0])\n",
    "    \n",
    "trainX = numpy.array(dataX)\n",
    "trainY = numpy.array(dataY)"
   ]
  },
  {
   "cell_type": "code",
   "execution_count": 13,
   "metadata": {},
   "outputs": [],
   "source": [
    "dataX = []\n",
    "dataY = []\n",
    "for i in range(len(test)-time_stemp-1):\n",
    "    a = test[i:(i+time_stemp), 0]\n",
    "    dataX.append(a)\n",
    "    dataY.append(test[i + time_stemp, 0])\n",
    "testX = numpy.array(dataX)\n",
    "testY = numpy.array(dataY)  "
   ]
  },
  {
   "cell_type": "code",
   "execution_count": 14,
   "metadata": {},
   "outputs": [],
   "source": [
    "trainX = numpy.reshape(trainX, (trainX.shape[0], 1, trainX.shape[1]))\n",
    "testX = numpy.reshape(testX, (testX.shape[0], 1, testX.shape[1]))"
   ]
  },
  {
   "cell_type": "code",
   "execution_count": 15,
   "metadata": {},
   "outputs": [
    {
     "name": "stdout",
     "output_type": "stream",
     "text": [
      "(618, 1, 10)\n",
      "(618, 1, 10)\n"
     ]
    }
   ],
   "source": [
    "print(trainX.shape)\n",
    "print(testX.shape)"
   ]
  },
  {
   "cell_type": "code",
   "execution_count": 16,
   "metadata": {},
   "outputs": [
    {
     "name": "stdout",
     "output_type": "stream",
     "text": [
      "(618,)\n",
      "(618,)\n"
     ]
    }
   ],
   "source": [
    "print(trainY.shape)\n",
    "print(testY.shape)"
   ]
  },
  {
   "cell_type": "code",
   "execution_count": 17,
   "metadata": {},
   "outputs": [],
   "source": [
    "from keras.layers import Dropout"
   ]
  },
  {
   "cell_type": "code",
   "execution_count": 18,
   "metadata": {},
   "outputs": [
    {
     "data": {
      "text/plain": [
       "\"# model\\nmodel = Sequential()\\nmodel.add(LSTM(40, return_sequences = True ,input_shape=(1, time_stemp))) # 10 lstm neuron(block)\\nmodel.add(Dropout(0.2))\\nmodel.add(LSTM(units = 40,return_sequences = True))\\nmodel.add(Dropout(0.2))\\nmodel.add(LSTM(units = 40,return_sequences = True))\\nmodel.add(Dropout(0.2))\\nmodel.add(LSTM(units = 40))\\nmodel.add(Dropout(0.2))\\nmodel.add(Dense(1))\\nmodel.compile(loss='mean_squared_error', optimizer='adam')\\nmodel.fit(trainX, trainY, epochs=100, batch_size=32)\\n\\nTrain Score: 1.14 RMSE\\nTest Score: 24.19 RMSE\\n\\n\""
      ]
     },
     "execution_count": 18,
     "metadata": {},
     "output_type": "execute_result"
    }
   ],
   "source": [
    "\"\"\"# model\n",
    "model = Sequential()\n",
    "model.add(LSTM(40, return_sequences = True ,input_shape=(1, time_stemp))) # 10 lstm neuron(block)\n",
    "model.add(Dropout(0.2))\n",
    "model.add(LSTM(units = 40,return_sequences = True))\n",
    "model.add(Dropout(0.2))\n",
    "model.add(LSTM(units = 40,return_sequences = True))\n",
    "model.add(Dropout(0.2))\n",
    "model.add(LSTM(units = 40))\n",
    "model.add(Dropout(0.2))\n",
    "model.add(Dense(1))\n",
    "model.compile(loss='mean_squared_error', optimizer='adam')\n",
    "model.fit(trainX, trainY, epochs=100, batch_size=32)\n",
    "\n",
    "Train Score: 1.14 RMSE\n",
    "Test Score: 24.19 RMSE\n",
    "\n",
    "\"\"\""
   ]
  },
  {
   "cell_type": "code",
   "execution_count": 19,
   "metadata": {
    "scrolled": true
   },
   "outputs": [
    {
     "name": "stdout",
     "output_type": "stream",
     "text": [
      "Epoch 1/50\n",
      "618/618 [==============================] - 3s 1ms/step - loss: 5.1112e-04\n",
      "Epoch 2/50\n",
      "618/618 [==============================] - 1s 1ms/step - loss: 2.0936e-04\n",
      "Epoch 3/50\n",
      "618/618 [==============================] - 1s 1ms/step - loss: 1.9048e-04\n",
      "Epoch 4/50\n",
      "618/618 [==============================] - 1s 1ms/step - loss: 1.6538e-04\n",
      "Epoch 5/50\n",
      "618/618 [==============================] - 1s 1ms/step - loss: 1.5262e-04\n",
      "Epoch 6/50\n",
      "618/618 [==============================] - 1s 1ms/step - loss: 1.4679e-04\n",
      "Epoch 7/50\n",
      "618/618 [==============================] - 1s 1ms/step - loss: 1.3327e-04\n",
      "Epoch 8/50\n",
      "618/618 [==============================] - 1s 1ms/step - loss: 1.3139e-04\n",
      "Epoch 9/50\n",
      "618/618 [==============================] - 1s 1ms/step - loss: 1.3017e-04\n",
      "Epoch 10/50\n",
      "618/618 [==============================] - 1s 1ms/step - loss: 1.1794e-04\n",
      "Epoch 11/50\n",
      "618/618 [==============================] - 1s 1ms/step - loss: 1.1970e-04\n",
      "Epoch 12/50\n",
      "618/618 [==============================] - 1s 1ms/step - loss: 1.2088e-04\n",
      "Epoch 13/50\n",
      "618/618 [==============================] - 1s 2ms/step - loss: 1.2247e-04\n",
      "Epoch 14/50\n",
      "618/618 [==============================] - 1s 2ms/step - loss: 1.2206e-04\n",
      "Epoch 15/50\n",
      "618/618 [==============================] - 1s 2ms/step - loss: 1.1439e-04\n",
      "Epoch 16/50\n",
      "618/618 [==============================] - 1s 2ms/step - loss: 1.1449e-04\n",
      "Epoch 17/50\n",
      "618/618 [==============================] - 1s 2ms/step - loss: 1.0720e-04\n",
      "Epoch 18/50\n",
      "618/618 [==============================] - 1s 2ms/step - loss: 1.0933e-04\n",
      "Epoch 19/50\n",
      "618/618 [==============================] - 1s 2ms/step - loss: 1.0618e-04\n",
      "Epoch 20/50\n",
      "618/618 [==============================] - 1s 2ms/step - loss: 1.0556e-04\n",
      "Epoch 21/50\n",
      "618/618 [==============================] - 1s 2ms/step - loss: 1.1814e-04\n",
      "Epoch 22/50\n",
      "618/618 [==============================] - 1s 2ms/step - loss: 1.1283e-04\n",
      "Epoch 23/50\n",
      "618/618 [==============================] - 1s 1ms/step - loss: 1.0206e-04\n",
      "Epoch 24/50\n",
      "618/618 [==============================] - 1s 2ms/step - loss: 1.0686e-04\n",
      "Epoch 25/50\n",
      "618/618 [==============================] - 1s 2ms/step - loss: 1.0090e-04\n",
      "Epoch 26/50\n",
      "618/618 [==============================] - 1s 2ms/step - loss: 1.0683e-04\n",
      "Epoch 27/50\n",
      "618/618 [==============================] - 1s 2ms/step - loss: 1.0282e-04\n",
      "Epoch 28/50\n",
      "618/618 [==============================] - 1s 1ms/step - loss: 1.0533e-04\n",
      "Epoch 29/50\n",
      "618/618 [==============================] - 1s 1ms/step - loss: 1.0917e-04\n",
      "Epoch 30/50\n",
      "618/618 [==============================] - 1s 1ms/step - loss: 1.0084e-04\n",
      "Epoch 31/50\n",
      "618/618 [==============================] - 1s 1ms/step - loss: 1.1096e-04\n",
      "Epoch 32/50\n",
      "618/618 [==============================] - 1s 1ms/step - loss: 9.9569e-05\n",
      "Epoch 33/50\n",
      "618/618 [==============================] - 1s 1ms/step - loss: 1.0267e-04\n",
      "Epoch 34/50\n",
      "618/618 [==============================] - 1s 2ms/step - loss: 1.0350e-04\n",
      "Epoch 35/50\n",
      "618/618 [==============================] - 1s 2ms/step - loss: 1.0109e-04\n",
      "Epoch 36/50\n",
      "618/618 [==============================] - 1s 2ms/step - loss: 1.1365e-04\n",
      "Epoch 37/50\n",
      "618/618 [==============================] - 1s 2ms/step - loss: 9.9193e-05\n",
      "Epoch 38/50\n",
      "618/618 [==============================] - 1s 2ms/step - loss: 1.0011e-04\n",
      "Epoch 39/50\n",
      "618/618 [==============================] - 1s 2ms/step - loss: 9.9973e-05\n",
      "Epoch 40/50\n",
      "618/618 [==============================] - 1s 1ms/step - loss: 1.0135e-04\n",
      "Epoch 41/50\n",
      "618/618 [==============================] - 1s 1ms/step - loss: 1.0042e-04\n",
      "Epoch 42/50\n",
      "618/618 [==============================] - 1s 1ms/step - loss: 1.0045e-04\n",
      "Epoch 43/50\n",
      "618/618 [==============================] - 1s 1ms/step - loss: 1.0299e-04\n",
      "Epoch 44/50\n",
      "618/618 [==============================] - 1s 1ms/step - loss: 9.7176e-05\n",
      "Epoch 45/50\n",
      "618/618 [==============================] - 1s 1ms/step - loss: 1.0246e-04\n",
      "Epoch 46/50\n",
      "618/618 [==============================] - 1s 1ms/step - loss: 1.0013e-04\n",
      "Epoch 47/50\n",
      "618/618 [==============================] - 1s 1ms/step - loss: 9.6171e-05\n",
      "Epoch 48/50\n",
      "618/618 [==============================] - 1s 1ms/step - loss: 9.7338e-05\n",
      "Epoch 49/50\n",
      "618/618 [==============================] - 1s 1ms/step - loss: 1.0262e-04\n",
      "Epoch 50/50\n",
      "618/618 [==============================] - 1s 1ms/step - loss: 1.0170e-04\n"
     ]
    },
    {
     "data": {
      "text/plain": [
       "<keras.callbacks.History at 0x21394dea1f0>"
      ]
     },
     "execution_count": 19,
     "metadata": {},
     "output_type": "execute_result"
    }
   ],
   "source": [
    "# model\n",
    "model = Sequential()\n",
    "model.add(LSTM(10, input_shape=(1, time_stemp))) # 10 lstm neuron(block)\n",
    "model.add(Dense(1))\n",
    "model.compile(loss='mean_squared_error', optimizer='adam')\n",
    "model.fit(trainX, trainY, epochs=50, batch_size=1)"
   ]
  },
  {
   "cell_type": "markdown",
   "metadata": {},
   "source": [
    "Train Score: 0.96 RMSE\n",
    "Test Score: 8.85 RMSE"
   ]
  },
  {
   "cell_type": "code",
   "execution_count": 20,
   "metadata": {},
   "outputs": [
    {
     "name": "stdout",
     "output_type": "stream",
     "text": [
      "20/20 [==============================] - 0s 1ms/step\n",
      "20/20 [==============================] - 0s 1ms/step\n",
      "Train Score: 1.04 RMSE\n",
      "Test Score: 8.72 RMSE\n"
     ]
    }
   ],
   "source": [
    "trainPredict = model.predict(trainX)\n",
    "testPredict = model.predict(testX)\n",
    "# invert predictions\n",
    "trainPredict = scaler.inverse_transform(trainPredict)\n",
    "trainY = scaler.inverse_transform([trainY])\n",
    "testPredict = scaler.inverse_transform(testPredict)\n",
    "testY = scaler.inverse_transform([testY])\n",
    "# calculate root mean squared error\n",
    "trainScore = math.sqrt(mean_squared_error(trainY[0], trainPredict[:,0]))\n",
    "print('Train Score: %.2f RMSE' % (trainScore))\n",
    "testScore = math.sqrt(mean_squared_error(testY[0], testPredict[:,0]))\n",
    "print('Test Score: %.2f RMSE' % (testScore))"
   ]
  },
  {
   "cell_type": "code",
   "execution_count": 21,
   "metadata": {},
   "outputs": [
    {
     "data": {
      "image/png": "[encoded data removed]",
      "text/plain": [
       "<Figure size 432x288 with 1 Axes>"
      ]
     },
     "metadata": {
      "needs_background": "light"
     },
     "output_type": "display_data"
    }
   ],
   "source": [
    "# shifting train\n",
    "trainPredictPlot = numpy.empty_like(google_data_open)\n",
    "trainPredictPlot[:, :] = numpy.nan\n",
    "trainPredictPlot[time_stemp:len(trainPredict)+time_stemp, :] = trainPredict\n",
    "# shifting test predictions for plotting\n",
    "testPredictPlot = numpy.empty_like(google_data_open)\n",
    "testPredictPlot[:, :] = numpy.nan\n",
    "testPredictPlot[len(trainPredict)+(time_stemp*2)+1:len(google_data_open)-1, :] = testPredict\n",
    "# plot baseline and predictions\n",
    "plt.plot(google_data[\"Date\"],scaler.inverse_transform(google_data_open), label = \"Real Price\")\n",
    "plt.plot(google_data[\"Date\"],trainPredictPlot, label=\"Training Price\")\n",
    "plt.plot(google_data[\"Date\"],testPredictPlot, label=\"Predicted Price\")\n",
    "plt.legend()\n",
    "plt.show()"
   ]
  },
  {
   "cell_type": "code",
   "execution_count": 22,
   "metadata": {},
   "outputs": [
    {
     "data": {
      "text/plain": [
       "(618, 1, 10)"
      ]
     },
     "execution_count": 22,
     "metadata": {},
     "output_type": "execute_result"
    }
   ],
   "source": [
    "trainX.shape"
   ]
  },
  {
   "cell_type": "code",
   "execution_count": 26,
   "metadata": {},
   "outputs": [
    {
     "data": {
      "text/html": [
       "<div>\n",
       "<style scoped>\n",
       "    .dataframe tbody tr th:only-of-type {\n",
       "        vertical-align: middle;\n",
       "    }\n",
       "\n",
       "    .dataframe tbody tr th {\n",
       "        vertical-align: top;\n",
       "    }\n",
       "\n",
       "    .dataframe thead th {\n",
       "        text-align: right;\n",
       "    }\n",
       "</style>\n",
       "<table border=\"1\" class=\"dataframe\">\n",
       "  <thead>\n",
       "    <tr style=\"text-align: right;\">\n",
       "      <th></th>\n",
       "      <th>Date</th>\n",
       "      <th>Open</th>\n",
       "      <th>High</th>\n",
       "      <th>Low</th>\n",
       "      <th>Close</th>\n",
       "      <th>Adj Close</th>\n",
       "      <th>Volume</th>\n",
       "    </tr>\n",
       "  </thead>\n",
       "  <tbody>\n",
       "    <tr>\n",
       "      <th>1228</th>\n",
       "      <td>2022-07-26</td>\n",
       "      <td>107.430000</td>\n",
       "      <td>107.739998</td>\n",
       "      <td>104.760002</td>\n",
       "      <td>105.440002</td>\n",
       "      <td>105.440002</td>\n",
       "      <td>36626600</td>\n",
       "    </tr>\n",
       "    <tr>\n",
       "      <th>1229</th>\n",
       "      <td>2022-07-27</td>\n",
       "      <td>109.599998</td>\n",
       "      <td>114.400002</td>\n",
       "      <td>108.419998</td>\n",
       "      <td>113.599998</td>\n",
       "      <td>113.599998</td>\n",
       "      <td>41474600</td>\n",
       "    </tr>\n",
       "    <tr>\n",
       "      <th>1230</th>\n",
       "      <td>2022-07-28</td>\n",
       "      <td>112.800003</td>\n",
       "      <td>114.699997</td>\n",
       "      <td>111.850998</td>\n",
       "      <td>114.589996</td>\n",
       "      <td>114.589996</td>\n",
       "      <td>23303800</td>\n",
       "    </tr>\n",
       "    <tr>\n",
       "      <th>1231</th>\n",
       "      <td>2022-07-29</td>\n",
       "      <td>113.400002</td>\n",
       "      <td>116.900002</td>\n",
       "      <td>113.230003</td>\n",
       "      <td>116.639999</td>\n",
       "      <td>116.639999</td>\n",
       "      <td>31336200</td>\n",
       "    </tr>\n",
       "    <tr>\n",
       "      <th>1232</th>\n",
       "      <td>2022-08-01</td>\n",
       "      <td>115.529999</td>\n",
       "      <td>117.120003</td>\n",
       "      <td>114.690002</td>\n",
       "      <td>115.480003</td>\n",
       "      <td>115.480003</td>\n",
       "      <td>22856200</td>\n",
       "    </tr>\n",
       "    <tr>\n",
       "      <th>1233</th>\n",
       "      <td>2022-08-02</td>\n",
       "      <td>114.430000</td>\n",
       "      <td>117.080002</td>\n",
       "      <td>114.260002</td>\n",
       "      <td>115.900002</td>\n",
       "      <td>115.900002</td>\n",
       "      <td>17911000</td>\n",
       "    </tr>\n",
       "    <tr>\n",
       "      <th>1234</th>\n",
       "      <td>2022-08-03</td>\n",
       "      <td>116.339996</td>\n",
       "      <td>119.419998</td>\n",
       "      <td>116.150002</td>\n",
       "      <td>118.779999</td>\n",
       "      <td>118.779999</td>\n",
       "      <td>25302800</td>\n",
       "    </tr>\n",
       "    <tr>\n",
       "      <th>1235</th>\n",
       "      <td>2022-08-04</td>\n",
       "      <td>118.300003</td>\n",
       "      <td>119.500000</td>\n",
       "      <td>117.709999</td>\n",
       "      <td>118.870003</td>\n",
       "      <td>118.870003</td>\n",
       "      <td>15757700</td>\n",
       "    </tr>\n",
       "    <tr>\n",
       "      <th>1236</th>\n",
       "      <td>2022-08-05</td>\n",
       "      <td>116.930000</td>\n",
       "      <td>118.860001</td>\n",
       "      <td>116.709999</td>\n",
       "      <td>118.220001</td>\n",
       "      <td>118.220001</td>\n",
       "      <td>15607600</td>\n",
       "    </tr>\n",
       "    <tr>\n",
       "      <th>1237</th>\n",
       "      <td>2022-08-08</td>\n",
       "      <td>119.120003</td>\n",
       "      <td>120.860001</td>\n",
       "      <td>117.830002</td>\n",
       "      <td>118.139999</td>\n",
       "      <td>118.139999</td>\n",
       "      <td>17061100</td>\n",
       "    </tr>\n",
       "    <tr>\n",
       "      <th>1238</th>\n",
       "      <td>2022-08-09</td>\n",
       "      <td>117.989998</td>\n",
       "      <td>118.199997</td>\n",
       "      <td>116.559998</td>\n",
       "      <td>117.500000</td>\n",
       "      <td>117.500000</td>\n",
       "      <td>15424300</td>\n",
       "    </tr>\n",
       "    <tr>\n",
       "      <th>1239</th>\n",
       "      <td>2022-08-10</td>\n",
       "      <td>119.589996</td>\n",
       "      <td>121.779999</td>\n",
       "      <td>119.360001</td>\n",
       "      <td>120.650002</td>\n",
       "      <td>120.650002</td>\n",
       "      <td>20497000</td>\n",
       "    </tr>\n",
       "    <tr>\n",
       "      <th>1240</th>\n",
       "      <td>2022-08-11</td>\n",
       "      <td>122.080002</td>\n",
       "      <td>122.339996</td>\n",
       "      <td>119.550003</td>\n",
       "      <td>119.820000</td>\n",
       "      <td>119.820000</td>\n",
       "      <td>16671600</td>\n",
       "    </tr>\n",
       "    <tr>\n",
       "      <th>1241</th>\n",
       "      <td>2022-08-12</td>\n",
       "      <td>121.160004</td>\n",
       "      <td>122.650002</td>\n",
       "      <td>120.400002</td>\n",
       "      <td>122.650002</td>\n",
       "      <td>122.650002</td>\n",
       "      <td>16106600</td>\n",
       "    </tr>\n",
       "    <tr>\n",
       "      <th>1242</th>\n",
       "      <td>2022-08-15</td>\n",
       "      <td>122.209999</td>\n",
       "      <td>123.260002</td>\n",
       "      <td>121.570000</td>\n",
       "      <td>122.879997</td>\n",
       "      <td>122.879997</td>\n",
       "      <td>15525000</td>\n",
       "    </tr>\n",
       "    <tr>\n",
       "      <th>1243</th>\n",
       "      <td>2022-08-16</td>\n",
       "      <td>122.320000</td>\n",
       "      <td>123.227997</td>\n",
       "      <td>121.535004</td>\n",
       "      <td>122.510002</td>\n",
       "      <td>122.510002</td>\n",
       "      <td>15626200</td>\n",
       "    </tr>\n",
       "    <tr>\n",
       "      <th>1244</th>\n",
       "      <td>2022-08-17</td>\n",
       "      <td>120.930000</td>\n",
       "      <td>122.150002</td>\n",
       "      <td>120.199997</td>\n",
       "      <td>120.320000</td>\n",
       "      <td>120.320000</td>\n",
       "      <td>17589200</td>\n",
       "    </tr>\n",
       "    <tr>\n",
       "      <th>1245</th>\n",
       "      <td>2022-08-18</td>\n",
       "      <td>120.230003</td>\n",
       "      <td>121.690002</td>\n",
       "      <td>119.550003</td>\n",
       "      <td>120.860001</td>\n",
       "      <td>120.860001</td>\n",
       "      <td>15652000</td>\n",
       "    </tr>\n",
       "    <tr>\n",
       "      <th>1246</th>\n",
       "      <td>2022-08-19</td>\n",
       "      <td>119.870003</td>\n",
       "      <td>120.000000</td>\n",
       "      <td>117.669998</td>\n",
       "      <td>118.120003</td>\n",
       "      <td>118.120003</td>\n",
       "      <td>20171100</td>\n",
       "    </tr>\n",
       "    <tr>\n",
       "      <th>1247</th>\n",
       "      <td>2022-08-22</td>\n",
       "      <td>116.099998</td>\n",
       "      <td>116.500000</td>\n",
       "      <td>114.669998</td>\n",
       "      <td>115.070000</td>\n",
       "      <td>115.070000</td>\n",
       "      <td>19316000</td>\n",
       "    </tr>\n",
       "    <tr>\n",
       "      <th>1248</th>\n",
       "      <td>2022-08-23</td>\n",
       "      <td>114.320000</td>\n",
       "      <td>115.930000</td>\n",
       "      <td>114.300003</td>\n",
       "      <td>114.769997</td>\n",
       "      <td>114.769997</td>\n",
       "      <td>14390700</td>\n",
       "    </tr>\n",
       "    <tr>\n",
       "      <th>1249</th>\n",
       "      <td>2022-08-24</td>\n",
       "      <td>114.449997</td>\n",
       "      <td>115.717003</td>\n",
       "      <td>113.779999</td>\n",
       "      <td>114.699997</td>\n",
       "      <td>114.699997</td>\n",
       "      <td>16051200</td>\n",
       "    </tr>\n",
       "    <tr>\n",
       "      <th>1250</th>\n",
       "      <td>2022-08-25</td>\n",
       "      <td>115.150002</td>\n",
       "      <td>117.779999</td>\n",
       "      <td>115.050003</td>\n",
       "      <td>117.699997</td>\n",
       "      <td>117.699997</td>\n",
       "      <td>14874700</td>\n",
       "    </tr>\n",
       "    <tr>\n",
       "      <th>1251</th>\n",
       "      <td>2022-08-26</td>\n",
       "      <td>115.809998</td>\n",
       "      <td>116.599998</td>\n",
       "      <td>111.220001</td>\n",
       "      <td>111.300003</td>\n",
       "      <td>111.300003</td>\n",
       "      <td>31698700</td>\n",
       "    </tr>\n",
       "    <tr>\n",
       "      <th>1252</th>\n",
       "      <td>2022-08-29</td>\n",
       "      <td>110.779999</td>\n",
       "      <td>111.959999</td>\n",
       "      <td>109.809998</td>\n",
       "      <td>110.339996</td>\n",
       "      <td>110.339996</td>\n",
       "      <td>20386100</td>\n",
       "    </tr>\n",
       "    <tr>\n",
       "      <th>1253</th>\n",
       "      <td>2022-08-30</td>\n",
       "      <td>111.029999</td>\n",
       "      <td>111.370003</td>\n",
       "      <td>108.800003</td>\n",
       "      <td>109.910004</td>\n",
       "      <td>109.910004</td>\n",
       "      <td>20548200</td>\n",
       "    </tr>\n",
       "    <tr>\n",
       "      <th>1254</th>\n",
       "      <td>2022-08-31</td>\n",
       "      <td>111.629997</td>\n",
       "      <td>111.769997</td>\n",
       "      <td>109.050003</td>\n",
       "      <td>109.150002</td>\n",
       "      <td>109.150002</td>\n",
       "      <td>25898000</td>\n",
       "    </tr>\n",
       "    <tr>\n",
       "      <th>1255</th>\n",
       "      <td>2022-09-01</td>\n",
       "      <td>109.199997</td>\n",
       "      <td>111.220001</td>\n",
       "      <td>108.190002</td>\n",
       "      <td>110.550003</td>\n",
       "      <td>110.550003</td>\n",
       "      <td>22784400</td>\n",
       "    </tr>\n",
       "    <tr>\n",
       "      <th>1256</th>\n",
       "      <td>2022-09-02</td>\n",
       "      <td>111.339996</td>\n",
       "      <td>111.675003</td>\n",
       "      <td>108.129997</td>\n",
       "      <td>108.680000</td>\n",
       "      <td>108.680000</td>\n",
       "      <td>20601600</td>\n",
       "    </tr>\n",
       "    <tr>\n",
       "      <th>1257</th>\n",
       "      <td>2022-09-06</td>\n",
       "      <td>108.135002</td>\n",
       "      <td>108.879997</td>\n",
       "      <td>106.510002</td>\n",
       "      <td>107.480003</td>\n",
       "      <td>107.480003</td>\n",
       "      <td>20551900</td>\n",
       "    </tr>\n",
       "  </tbody>\n",
       "</table>\n",
       "</div>"
      ],
      "text/plain": [
       "           Date        Open        High         Low       Close   Adj Close  \\\n",
       "1228 2022-07-26  107.430000  107.739998  104.760002  105.440002  105.440002   \n",
       "1229 2022-07-27  109.599998  114.400002  108.419998  113.599998  113.599998   \n",
       "1230 2022-07-28  112.800003  114.699997  111.850998  114.589996  114.589996   \n",
       "1231 2022-07-29  113.400002  116.900002  113.230003  116.639999  116.639999   \n",
       "1232 2022-08-01  115.529999  117.120003  114.690002  115.480003  115.480003   \n",
       "1233 2022-08-02  114.430000  117.080002  114.260002  115.900002  115.900002   \n",
       "1234 2022-08-03  116.339996  119.419998  116.150002  118.779999  118.779999   \n",
       "1235 2022-08-04  118.300003  119.500000  117.709999  118.870003  118.870003   \n",
       "1236 2022-08-05  116.930000  118.860001  116.709999  118.220001  118.220001   \n",
       "1237 2022-08-08  119.120003  120.860001  117.830002  118.139999  118.139999   \n",
       "1238 2022-08-09  117.989998  118.199997  116.559998  117.500000  117.500000   \n",
       "1239 2022-08-10  119.589996  121.779999  119.360001  120.650002  120.650002   \n",
       "1240 2022-08-11  122.080002  122.339996  119.550003  119.820000  119.820000   \n",
       "1241 2022-08-12  121.160004  122.650002  120.400002  122.650002  122.650002   \n",
       "1242 2022-08-15  122.209999  123.260002  121.570000  122.879997  122.879997   \n",
       "1243 2022-08-16  122.320000  123.227997  121.535004  122.510002  122.510002   \n",
       "1244 2022-08-17  120.930000  122.150002  120.199997  120.320000  120.320000   \n",
       "1245 2022-08-18  120.230003  121.690002  119.550003  120.860001  120.860001   \n",
       "1246 2022-08-19  119.870003  120.000000  117.669998  118.120003  118.120003   \n",
       "1247 2022-08-22  116.099998  116.500000  114.669998  115.070000  115.070000   \n",
       "1248 2022-08-23  114.320000  115.930000  114.300003  114.769997  114.769997   \n",
       "1249 2022-08-24  114.449997  115.717003  113.779999  114.699997  114.699997   \n",
       "1250 2022-08-25  115.150002  117.779999  115.050003  117.699997  117.699997   \n",
       "1251 2022-08-26  115.809998  116.599998  111.220001  111.300003  111.300003   \n",
       "1252 2022-08-29  110.779999  111.959999  109.809998  110.339996  110.339996   \n",
       "1253 2022-08-30  111.029999  111.370003  108.800003  109.910004  109.910004   \n",
       "1254 2022-08-31  111.629997  111.769997  109.050003  109.150002  109.150002   \n",
       "1255 2022-09-01  109.199997  111.220001  108.190002  110.550003  110.550003   \n",
       "1256 2022-09-02  111.339996  111.675003  108.129997  108.680000  108.680000   \n",
       "1257 2022-09-06  108.135002  108.879997  106.510002  107.480003  107.480003   \n",
       "\n",
       "        Volume  \n",
       "1228  36626600  \n",
       "1229  41474600  \n",
       "1230  23303800  \n",
       "1231  31336200  \n",
       "1232  22856200  \n",
       "1233  17911000  \n",
       "1234  25302800  \n",
       "1235  15757700  \n",
       "1236  15607600  \n",
       "1237  17061100  \n",
       "1238  15424300  \n",
       "1239  20497000  \n",
       "1240  16671600  \n",
       "1241  16106600  \n",
       "1242  15525000  \n",
       "1243  15626200  \n",
       "1244  17589200  \n",
       "1245  15652000  \n",
       "1246  20171100  \n",
       "1247  19316000  \n",
       "1248  14390700  \n",
       "1249  16051200  \n",
       "1250  14874700  \n",
       "1251  31698700  \n",
       "1252  20386100  \n",
       "1253  20548200  \n",
       "1254  25898000  \n",
       "1255  22784400  \n",
       "1256  20601600  \n",
       "1257  20551900  "
      ]
     },
     "execution_count": 26,
     "metadata": {},
     "output_type": "execute_result"
    }
   ],
   "source": [
    "google_data.tail(30)"
   ]
  },
  {
   "cell_type": "code",
   "execution_count": 39,
   "metadata": {},
   "outputs": [
    {
     "name": "stdout",
     "output_type": "stream",
     "text": [
      "1/1 [==============================] - 0s 15ms/step\n",
      "1/1 [==============================] - 0s 16ms/step\n"
     ]
    }
   ],
   "source": [
    "# Assuming you have data up to the end of 2021\n",
    "# Extract the last 'time_stemp' data points from the training data\n",
    "last_sequence = google_data_open[-time_stemp:]\n",
    "\n",
    "# Create an empty list to store the predicted values\n",
    "predicted_values = []\n",
    "\n",
    "# Number of months to predict (assuming you want to predict the 9th and 10th months of 2022)\n",
    "num_months_to_predict = 2\n",
    "\n",
    "# Loop through the number of months you want to predict\n",
    "for month in range(num_months_to_predict):\n",
    "    # Reshape the last_sequence to match the input shape of the model (samples, timesteps, features)\n",
    "    last_sequence_reshaped = last_sequence.reshape(1, 1, time_stemp)\n",
    "\n",
    "    # Predict the next value for the current sequence\n",
    "    predicted_value = model.predict(last_sequence_reshaped)\n",
    "\n",
    "    # Append the predicted value to the predicted_values list\n",
    "    predicted_values.append(predicted_value[0, 0])\n",
    "\n",
    "    # Update the last_sequence with the predicted value for the next iteration\n",
    "    last_sequence = np.append(last_sequence[1:], predicted_value)\n",
    "\n",
    "# Inverse transform the predicted values to get the original scale\n",
    "predicted_values = scaler.inverse_transform(np.array(predicted_values).reshape(-1, 1))\n"
   ]
  },
  {
   "cell_type": "code",
   "execution_count": 40,
   "metadata": {},
   "outputs": [
    {
     "data": {
      "image/png": "[encoded data removed]",
      "text/plain": [
       "<Figure size 720x432 with 1 Axes>"
      ]
     },
     "metadata": {
      "needs_background": "light"
     },
     "output_type": "display_data"
    }
   ],
   "source": [
    "import matplotlib.pyplot as plt\n",
    "\n",
    "# Generate the months for the predicted data\n",
    "predicted_months = pd.date_range(start='2022-09-01', periods=num_months_to_predict, freq='M')\n",
    "\n",
    "# Create a new plot to display the predictions\n",
    "plt.figure(figsize=(10, 6))\n",
    "\n",
    "# Plot the actual data\n",
    "plt.plot(google_data[\"Date\"], scaler.inverse_transform(google_data_open), label=\"Real Price\")\n",
    "\n",
    "# Plot the training data\n",
    "plt.plot(google_data[\"Date\"], trainPredictPlot, label=\"Training Price\")\n",
    "\n",
    "# Plot the test data\n",
    "plt.plot(google_data[\"Date\"], testPredictPlot, label=\"Predicted Price\")\n",
    "\n",
    "# Plot the predicted values for the 9th and 10th months of 2022\n",
    "plt.plot(predicted_months, predicted_values, label=\"Predicted Future Price\", marker='o', color='r')\n",
    "\n",
    "# Add labels and legend\n",
    "plt.xlabel(\"Time\")\n",
    "plt.ylabel(\"Open Value\")\n",
    "plt.title(\"Google Open Values\")\n",
    "plt.legend()\n",
    "\n",
    "# Show the plot\n",
    "plt.show()\n"
   ]
  }
 ],
 "metadata": {
  "kernelspec": {
   "display_name": "Python 3",
   "language": "python",
   "name": "python3"
  },
  "language_info": {
   "codemirror_mode": {
    "name": "ipython",
    "version": 3
   },
   "file_extension": ".py",
   "mimetype": "text/x-python",
   "name": "python",
   "nbconvert_exporter": "python",
   "pygments_lexer": "ipython3",
   "version": "3.8.8"
  }
 },
 "nbformat": 4,
 "nbformat_minor": 4
}
